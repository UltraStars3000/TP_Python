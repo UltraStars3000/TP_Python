{
 "cells": [
  {
   "cell_type": "markdown",
   "metadata": {},
   "source": [
    "**Les tables de Micmaths**"
   ]
  },
  {
   "cell_type": "code",
   "execution_count": 8,
   "metadata": {},
   "outputs": [],
   "source": [
    "from tkinter import *\n",
    "from math import *\n",
    "\n",
    "def passage(x,y, a, b):\n",
    "    return (a+x, b-y)\n",
    "\n",
    "def produit(k, n, p):\n",
    "    return k*n % p\n",
    "\n",
    "def segment(cnv, k, n, p, base, a, b):\n",
    "    prod=produit(k, n, p)\n",
    "    xA, yA=base[k]\n",
    "    xB, yB=base[prod]    \n",
    "    A=passage(xA, yA, a, b)\n",
    "    B=passage(xB, yB, a, b)\n",
    "    cnv.create_line(A, B)\n",
    "    \n",
    "def dot(cnv, C, R=6, color='red'):\n",
    "    xC, yC=C\n",
    "    return cnv.create_oval(xC-R,yC-R,xC+R, yC+R, fill=color, outline=color)\n",
    "  \n",
    "def draw_base(cnv, p, base, a, b):\n",
    "    for k in range(p):\n",
    "        x, y=base[k]\n",
    "        X, Y=passage(x, y, a, b)\n",
    "        dot(cnv, (X, Y), R=2, color='black')\n",
    "    \n",
    "def points(p,n,R):\n",
    "    p=int(p)\n",
    "    draw(n,p,R)\n",
    "\n",
    "def table(p, n, R):\n",
    "    n = int(n)\n",
    "    draw(n,p,R)\n",
    "\n",
    "def draw(n, p, R):\n",
    "    R=200\n",
    "    a=b=1.2*R\n",
    "    base=[(R*cos(2*k*pi/p), R*sin(2*k*pi/p)) for k in range(p)]\n",
    "    draw_base(cnv, p, base, a, b)\n",
    "    for k in range(p):\n",
    "        segment(cnv, k, n, p, base, a, b)    \n",
    "    master.mainloop()\n",
    "\n",
    "master=Tk()\n",
    "\n",
    "n=2\n",
    "p=2\n",
    "R=200\n",
    "a=b=1.2*R\n",
    "cnv=Canvas(width=2*a, height=2*b,bg='ivory')\n",
    "cnv.pack(side=\"left\")\n",
    "\n",
    "point = Scale(orient=\"horizontal\",label=\"Points: \", width=12, from_=2, to=500, command=lambda p: points(p,n,R))\n",
    "point.pack(padx=10, pady=40)\n",
    "point.set(2)\n",
    "mult = Scale(orient=\"horizontal\",label=\"Table:  \", width=12, from_=2, to=50, command=lambda n: table(p,n,R))\n",
    "mult.pack(padx=10, pady=40)\n",
    "mult.set(5)\n",
    "\n",
    "draw(n,p,R)"
   ]
  },
  {
   "cell_type": "markdown",
   "metadata": {},
   "source": [
    "**Puissance 4**"
   ]
  },
  {
   "cell_type": "code",
   "execution_count": 27,
   "metadata": {},
   "outputs": [],
   "source": [
    "from tkinter import *\n",
    "\n",
    "root=Tk()\n",
    "cnv = Canvas(root, width=500,height=500, bg=\"blue\")\n",
    "cnv.pack(side=\"bottom\",anchor=\"sw\")\n",
    "\n",
    "\n",
    "x,y=20,20\n",
    "for i in range(8):\n",
    "    for j in range(8):\n",
    "        cnv.create_oval((x,y),(x+50,y+50),fill=\"white\")\n",
    "        x+=70\n",
    "    y+=70\n",
    "    x=20\n",
    "\n",
    "mainloop()"
   ]
  },
  {
   "cell_type": "code",
   "execution_count": null,
   "metadata": {},
   "outputs": [],
   "source": []
  }
 ],
 "metadata": {
  "kernelspec": {
   "display_name": "Python 3",
   "language": "python",
   "name": "python3"
  },
  "language_info": {
   "codemirror_mode": {
    "name": "ipython",
    "version": 3
   },
   "file_extension": ".py",
   "mimetype": "text/x-python",
   "name": "python",
   "nbconvert_exporter": "python",
   "pygments_lexer": "ipython3",
   "version": "3.7.4"
  }
 },
 "nbformat": 4,
 "nbformat_minor": 2
}
