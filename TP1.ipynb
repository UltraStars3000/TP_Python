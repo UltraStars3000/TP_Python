{
 "cells": [
  {
   "cell_type": "markdown",
   "metadata": {},
   "source": [
    "**Exercice 1 : Puissance 4**"
   ]
  },
  {
   "cell_type": "code",
   "execution_count": 64,
   "metadata": {
    "collapsed": false
   },
   "outputs": [],
   "source": [
    "from tkinter import *\n",
    "\n",
    "WIDTH = 880\n",
    "HEIGHT = 700\n",
    "\n",
    "root=Tk()\n",
    "cnv=Canvas(root, width=WIDTH, height=HEIGHT, background='white')\n",
    "cnv.create_rectangle(100, 25, 780, 700, fill=\"blue\", outline='')\n",
    "cnv.create_rectangle(0, 675, 880, 700, fill=\"blue\", outline='')\n",
    "\n",
    "y = 35\n",
    "for j in range(0, 6):\n",
    "    x = 110\n",
    "    for i in range(0, 7):\n",
    "        if (j == 4 and i == 2) or (j == 5 and i == 3):\n",
    "            cnv.create_oval((x, y), (x+90, y+90), fill=\"yellow\", outline='')\n",
    "        elif (j == 3 and i == 2) or (j == 5 and i == 2):\n",
    "            cnv.create_oval((x, y), (x+90, y+90), fill=\"red\", outline='')\n",
    "        else:\n",
    "            cnv.create_oval((x, y), (x+90, y+90), fill=\"white\", outline='')\n",
    "        x = x+95\n",
    "    y = y+110\n",
    "cnv.pack()\n",
    "\n",
    "root.mainloop()"
   ]
  },
  {
   "cell_type": "markdown",
   "metadata": {},
   "source": [
    "**Exercice 2 : Forêt**"
   ]
  },
  {
   "cell_type": "code",
   "execution_count": 72,
   "metadata": {
    "collapsed": true
   },
   "outputs": [],
   "source": [
    "from tkinter import *\n",
    "from random import *\n",
    "\n",
    "def aleatoire(x, y, z):\n",
    "    if randrange(100) <= z:\n",
    "        cnv.create_rectangle((x*5,y*5), (x*5+5, y*5+5),fill=\"lime\", outline='')\n",
    "\n",
    "WIDTH = 600\n",
    "HEIGHT = 600\n",
    "DENSITY = 50\n",
    "\n",
    "root=Tk()\n",
    "cnv=Canvas(root, width=WIDTH, height=HEIGHT, background='ivory')\n",
    "\n",
    "for i in range(WIDTH//5):\n",
    "    for j in range(HEIGHT//5):\n",
    "        aleatoire(i, j, DENSITY)\n",
    "cnv.pack()\n",
    "\n",
    "root.mainloop()"
   ]
  },
  {
   "cell_type": "markdown",
   "metadata": {},
   "source": [
    "**Exercice 3 : Taquin**"
   ]
  },
  {
   "cell_type": "code",
   "execution_count": 111,
   "metadata": {
    "collapsed": false
   },
   "outputs": [],
   "source": [
    "from tkinter import *\n",
    "\n",
    "num = 1\n",
    "\n",
    "root=Tk()\n",
    "cnv=Canvas(root, width=WIDTH, height=HEIGHT, background='ivory')\n",
    "for j in range(0, 4):\n",
    "    for i in range(0, 4):\n",
    "        if num != 16:\n",
    "            case = Label(root, text=num,font = \"arial 20\", bg='lightsteelblue2', width=2, height=1)\n",
    "            case.grid(row=j, column=i)\n",
    "        else:\n",
    "            case = Label(root, bg='ivory', width=2, height=1)\n",
    "            case.grid(row=j, column=i)\n",
    "        num = num+1\n",
    "\n",
    "root.mainloop()"
   ]
  },
  {
   "cell_type": "code",
   "execution_count": null,
   "metadata": {
    "collapsed": true
   },
   "outputs": [],
   "source": []
  }
 ],
 "metadata": {
  "kernelspec": {
   "display_name": "Python 3",
   "language": "python",
   "name": "python3"
  },
  "language_info": {
   "codemirror_mode": {
    "name": "ipython",
    "version": 3
   },
   "file_extension": ".py",
   "mimetype": "text/x-python",
   "name": "python",
   "nbconvert_exporter": "python",
   "pygments_lexer": "ipython3",
   "version": "3.5.3"
  }
 },
 "nbformat": 4,
 "nbformat_minor": 2
}
